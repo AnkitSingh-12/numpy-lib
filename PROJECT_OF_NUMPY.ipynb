{
  "nbformat": 4,
  "nbformat_minor": 0,
  "metadata": {
    "colab": {
      "provenance": [],
      "authorship_tag": "ABX9TyNoEc0EPkvvX2V0+X4MwBF8",
      "include_colab_link": true
    },
    "kernelspec": {
      "name": "python3",
      "display_name": "Python 3"
    },
    "language_info": {
      "name": "python"
    }
  },
  "cells": [
    {
      "cell_type": "markdown",
      "metadata": {
        "id": "view-in-github",
        "colab_type": "text"
      },
      "source": [
        "<a href=\"https://colab.research.google.com/github/AnkitSingh-12/numpy-lib/blob/main/PROJECT_OF_NUMPY.ipynb\" target=\"_parent\"><img src=\"https://colab.research.google.com/assets/colab-badge.svg\" alt=\"Open In Colab\"/></a>"
      ]
    },
    {
      "cell_type": "markdown",
      "source": [
        "**PROJECT**\n"
      ],
      "metadata": {
        "id": "6-sRz5ggo70g"
      }
    },
    {
      "cell_type": "code",
      "execution_count": null,
      "metadata": {
        "colab": {
          "base_uri": "https://localhost:8080/"
        },
        "id": "ExYS6YWVo2iS",
        "outputId": "c40c7f8d-34aa-4727-b26e-14720b03cacc"
      },
      "outputs": [
        {
          "output_type": "stream",
          "name": "stdout",
          "text": [
            "[ 0.          5.55555556 11.11111111 16.66666667 22.22222222 27.77777778\n",
            " 33.33333333 38.88888889 44.44444444 50.        ]\n"
          ]
        }
      ],
      "source": [
        "#\n",
        "''' 1. Create Arrays:\n",
        "o Create two NumPy arrays:\n",
        "▪ A 1D array of 10 equally spaced values between 0 and 50.\n",
        "▪ A 2D array of shape (3x3) containing random integers\n",
        "between 5 and 20.'''\n",
        "\n",
        "#▪ A 1D array of 10 equally spaced values between 0 and 50.\n",
        "import numpy as np\n",
        "\n",
        "arr = np.linspace(0, 50, 10)\n",
        "\n",
        "print(arr)"
      ]
    },
    {
      "cell_type": "code",
      "source": [
        "#▪ A 2D array of shape (3x3) containing random integers between 5 and 20\n",
        "import numpy as np\n",
        "arr = np.random.randint(5, 21, (3, 3))\n",
        "print(arr)"
      ],
      "metadata": {
        "colab": {
          "base_uri": "https://localhost:8080/"
        },
        "id": "FkojfMUZpm1c",
        "outputId": "a66c24dc-e989-4635-cd71-4593407ada56"
      },
      "execution_count": null,
      "outputs": [
        {
          "output_type": "stream",
          "name": "stdout",
          "text": [
            "[[12 17 18]\n",
            " [18  6 12]\n",
            " [15 16 17]]\n"
          ]
        }
      ]
    },
    {
      "cell_type": "code",
      "source": [
        "'''\n",
        "2. Array Dimensions:\n",
        "o Print the dimensions of both arrays.\n",
        "o Print the shape of both arrays.\n",
        "\n",
        " '''\n",
        "#o Print the dimensions of both arrays.\n",
        "import numpy as np\n",
        "arr_1 = np.linspace(0, 50, 10)\n",
        "arr_2 = np.random.randint(5, 21, (3, 3))\n",
        "print(\"Array 1 dimensions:\", arr_1.ndim)\n",
        "print(\"Array 1 shape:\", arr_1.shape)\n",
        "print(\"Array 2 dimensions:\", arr_2.ndim)\n",
        "print(\"Array 2 shape:\", arr_2.shape)\n",
        "\n",
        "\n",
        "# Print the shape of both arrays.\n",
        "import numpy as np\n",
        "arr_1 = np.linspace(0, 50, 10)\n",
        "arr_2 = np.random.randint(5, 21, (3, 3))\n",
        "print(\"Array 1 shape:\", arr_1.shape)\n",
        "print(\"Array 2 shape:\", arr_2.shape)"
      ],
      "metadata": {
        "colab": {
          "base_uri": "https://localhost:8080/"
        },
        "id": "sjW-oPzFqANR",
        "outputId": "50a92b56-c084-4d4a-ad31-1b5a74fca945"
      },
      "execution_count": null,
      "outputs": [
        {
          "output_type": "stream",
          "name": "stdout",
          "text": [
            "Array 1 dimensions: 1\n",
            "Array 1 shape: (10,)\n",
            "Array 2 dimensions: 2\n",
            "Array 2 shape: (3, 3)\n",
            "Array 1 shape: (10,)\n",
            "Array 2 shape: (3, 3)\n"
          ]
        }
      ]
    },
    {
      "cell_type": "code",
      "source": [
        "'''\n",
        "3. Reshaping:\n",
        "o Reshape the 1D array into a 2D array with shape (2x5).\n",
        "o Print the reshaped array.\n",
        "o Flatten the reshaped array back to 1D and print it.\n",
        "'''\n",
        "import numpy as np\n",
        "arr_1d = np.linspace(0, 50, 10)\n",
        "arr2d = arr_1d.reshape(2, 5)\n",
        "print(\"Reshaped array:\")\n",
        "print(arr2d)\n",
        "flattened_arr = arr2d.flatten()\n",
        "print(\"Flattened array:\")\n",
        "print(flattened_arr)"
      ],
      "metadata": {
        "colab": {
          "base_uri": "https://localhost:8080/"
        },
        "id": "ZM6nY5vrrbLL",
        "outputId": "68e53ecf-a275-4693-ef27-d1c348b69337"
      },
      "execution_count": null,
      "outputs": [
        {
          "output_type": "stream",
          "name": "stdout",
          "text": [
            "Reshaped array:\n",
            "[[ 0.          5.55555556 11.11111111 16.66666667 22.22222222]\n",
            " [27.77777778 33.33333333 38.88888889 44.44444444 50.        ]]\n",
            "Flattened array:\n",
            "[ 0.          5.55555556 11.11111111 16.66666667 22.22222222 27.77777778\n",
            " 33.33333333 38.88888889 44.44444444 50.        ]\n"
          ]
        }
      ]
    },
    {
      "cell_type": "code",
      "source": [
        "'''Part 2: Indexing and Slicing\n",
        "4. Indexing:\n",
        "o For the 2D array created in Part 1, print the element present at the\n",
        "2nd row and 3rd column.\n",
        "o Extract the first two rows and the last two columns of the array.'''\n",
        "\n",
        "#o For the 2D array created in Part 1, print the element present at the 2nd row and 3rd column.\n",
        "import numpy as np\n",
        "a=np.array([[1, 2, 3],\n",
        "            [4, 5, 6],\n",
        "            [7, 8, 9]])\n",
        "print(a[1][2])\n",
        "\n",
        "#Extract the first two rows and the last two columns of the array\n",
        "import numpy as np\n",
        "a=np.array([[1, 2, 3],\n",
        "            [4, 5, 6],\n",
        "            [7, 8, 9]])\n",
        "print(a[:2, 1:])\n",
        "\n",
        "print(a[2, :])\n",
        "\n",
        "print(a[:, 0])"
      ],
      "metadata": {
        "colab": {
          "base_uri": "https://localhost:8080/"
        },
        "id": "2P8-UKD3tdjY",
        "outputId": "6cdc2c2f-8f09-43af-f4b6-04e3a4a2eedd"
      },
      "execution_count": null,
      "outputs": [
        {
          "output_type": "stream",
          "name": "stdout",
          "text": [
            "6\n",
            "[[2 3]\n",
            " [5 6]]\n",
            "[7 8 9]\n",
            "[1 4 7]\n"
          ]
        }
      ]
    },
    {
      "cell_type": "code",
      "source": [
        "'''\n",
        "5. Slicing:\n",
        "o Slice the first four elements from the flattened 1D array.\n",
        "o Reverse the elements of the 1D array using slicing.\n",
        "\n",
        "'''\n",
        "#o Slice the first four elements from the flattened 1D array.\n",
        "import numpy as np\n",
        "arr = np.array([[1, 2, 3],\n",
        "                   [4, 5, 6],\n",
        "                   [7, 8, 9]])\n",
        "flattened_arr = arr.flatten()\n",
        "sliced_arr = flattened_arr[:4]\n",
        "print(sliced_arr)\n",
        "\n",
        "#o Reverse the elements of the 1D array using slicing.\n",
        "import numpy as np\n",
        "arr = np.array([[1, 2, 3],\n",
        "                   [4, 5, 6],\n",
        "                   [7, 8, 9]])\n",
        "reversed_arr = arr[::-1]\n",
        "print(reversed_arr)"
      ],
      "metadata": {
        "colab": {
          "base_uri": "https://localhost:8080/"
        },
        "id": "sH8x6G0IwLF6",
        "outputId": "f83564c9-2d31-4695-8dd7-4839b998734f"
      },
      "execution_count": null,
      "outputs": [
        {
          "output_type": "stream",
          "name": "stdout",
          "text": [
            "[1 2 3 4]\n",
            "[[7 8 9]\n",
            " [4 5 6]\n",
            " [1 2 3]]\n"
          ]
        }
      ]
    },
    {
      "cell_type": "code",
      "source": [
        "'''\n",
        "Part 3: Array Operations\n",
        "6. Array Arithmetic:\n",
        "o Create another 1D array of 10 integers between 1 and 10.\n",
        "o Perform the following element-wise operations between the 1D arrays created in Part 1 and Part 3:\n",
        "▪ Addition\n",
        "▪ Multiplication\n",
        "▪ Subtract a constant value (e.g., 5) from the array.\n",
        "'''\n",
        "#6. o Create another 1D array of 10 integers between 1 and 10.\n",
        "# import numpy as np\n",
        "# arr = np.array([1,2,3,4,5,6,7,8,9,10])\n",
        "# print(arr)\n",
        "# import numpy as np\n",
        "# arr = np.random.randint(1, 10, 9)\n",
        "# print(arr)\n",
        "\n",
        "\n",
        "#o Perform the following element-wise operations between the 1D arrays created in Part 1 and Part 3:\n",
        "# ▪ Addition\n",
        "# ▪ Multiplication\n",
        "# ▪ Subtract a constant value (e.g., 5) from the array\n",
        "\n",
        "import numpy as np\n",
        "arr1 = np.array([1, 2, 3, 4])\n",
        "arr2 = np.array([5, 6,7, 8])\n",
        "addition = arr1 + arr2\n",
        "subtraction = arr1 - arr2\n",
        "multiplication = arr1 * arr2\n",
        "division = arr1 / arr2\n",
        "power = arr1 ** 2\n",
        "print(\"Addition:\", addition)\n",
        "print(\"Subtraction:\", subtraction)\n",
        "print(\"Multiplication:\", multiplication)\n",
        "print(\"Division:\", division)\n",
        "print(\"Power (arr1 squared):\", power)\n",
        "\n",
        "\n"
      ],
      "metadata": {
        "colab": {
          "base_uri": "https://localhost:8080/"
        },
        "id": "h5YlqnSzxrxe",
        "outputId": "d99b98b2-0e30-411b-8e19-b5f98448d2c7"
      },
      "execution_count": null,
      "outputs": [
        {
          "output_type": "stream",
          "name": "stdout",
          "text": [
            "Addition: [ 6  8 10 12]\n",
            "Subtraction: [-4 -4 -4 -4]\n",
            "Multiplication: [ 5 12 21 32]\n",
            "Division: [0.2        0.33333333 0.42857143 0.5       ]\n",
            "Power (arr1 squared): [ 1  4  9 16]\n"
          ]
        }
      ]
    },
    {
      "cell_type": "code",
      "source": [
        "a1=np.array([1,2,3,4])\n",
        "a2=np.array([5,6,7,8])\n",
        "print(a1+a2)\n",
        "print(a1-a2)\n",
        "print(a1*a2)\n",
        "print(a1/a2)\n",
        "print(a1%a2)"
      ],
      "metadata": {
        "colab": {
          "base_uri": "https://localhost:8080/"
        },
        "id": "h-cUUvDE2B_z",
        "outputId": "ee6fd70a-955b-4141-be5c-153852097f39"
      },
      "execution_count": null,
      "outputs": [
        {
          "output_type": "stream",
          "name": "stdout",
          "text": [
            "[ 6  8 10 12]\n",
            "[-4 -4 -4 -4]\n",
            "[ 5 12 21 32]\n",
            "[0.2        0.33333333 0.42857143 0.5       ]\n",
            "[1 2 3 4]\n"
          ]
        }
      ]
    },
    {
      "cell_type": "code",
      "source": [
        "'''\n",
        "Part 4: Random Number Generation and Copying\n",
        "7. Random Numbers:\n",
        "o Create a 1D array of 5 random values between 0 and 1.\n",
        "o o Create another 1D array of 5 random values between -1 and 1.\n",
        "\n",
        "'''\n",
        "#o Create a 1D array of 5 random values between 0 and 1.\n",
        "import numpy as np\n",
        "arr = np.random.rand(5)\n",
        "print(arr)\n",
        "\n",
        "\n",
        "#o Create another 1D array of 5 random values between -1 and 1.\n",
        "import numpy as np\n",
        "arr = np.random.uniform(-1, 1, 5)\n",
        "print(arr)"
      ],
      "metadata": {
        "colab": {
          "base_uri": "https://localhost:8080/"
        },
        "id": "JihMi5073J2Y",
        "outputId": "a8101d62-caad-4f67-e574-6b8a8abeca2a"
      },
      "execution_count": null,
      "outputs": [
        {
          "output_type": "stream",
          "name": "stdout",
          "text": [
            "[0.16007822 0.26628948 0.38035321 0.69533695 0.31297847]\n",
            "[-0.68375362  0.12833049 -0.10538635  0.80024204  0.01012498]\n"
          ]
        }
      ]
    },
    {
      "cell_type": "code",
      "source": [
        "'''\n",
        "8. Copy vs View:\n",
        "o Create a copy of the original 2D array from Part 1.\n",
        "o Modify one element in the copy and show that it doesn’t affect the\n",
        "original array.\n",
        "o Create a view of the original 2D array and modify one element.\n",
        "Show that it does affect the original array.\n",
        "\n",
        "# '''\n",
        "#o Create a copy of the original 2D array from Part 1.\n",
        "import numpy as np\n",
        "arr = np.array([[1, 2, 3],\n",
        "                   [4, 5, 6],\n",
        "                   [7, 8, 9]])\n",
        "arr_copy = arr.copy()\n",
        "print(arr_copy)\n",
        "\n",
        "#o Modify one element in the copy and show that it doesn’t affect the original array\n",
        "import numpy as np\n",
        "array = np.array([1, 2, 3, 4, 5])\n",
        "\n",
        "copy_array = array.copy()\n",
        "view_array = array[1:]\n",
        "# Modify an element in the copy\n",
        "copy_array[0] = 10\n",
        "\n",
        "# Modify an element in the view\n",
        "view_array[0] = 20\n",
        "\n",
        "print(\"Copy array:\", copy_array)\n",
        "print(\"View array:\", view_array)\n",
        "\n",
        "#o Create a view of the original 2D array and modify one element. Show that it does affect the original array\n",
        "import numpy as np\n",
        "array = np.array([[1, 2, 3], [4, 5, 6], [7, 8, 9]])\n",
        "\n",
        "# Create a view (slice) of the original array\n",
        "view_array = array[0:2, :]\n",
        "\n",
        "# Modify an element in the view\n",
        "view_array[1, 0] = 10\n",
        "\n",
        "print(\"\\nView Array:\")\n",
        "print(view_array)"
      ],
      "metadata": {
        "colab": {
          "base_uri": "https://localhost:8080/"
        },
        "id": "FQEW1SMc4i2U",
        "outputId": "e52ab32c-b70c-4bcc-b417-17f635b0c83a"
      },
      "execution_count": null,
      "outputs": [
        {
          "output_type": "stream",
          "name": "stdout",
          "text": [
            "[[1 2 3]\n",
            " [4 5 6]\n",
            " [7 8 9]]\n",
            "Copy array: [10  2  3  4  5]\n",
            "View array: [20  3  4  5]\n",
            "\n",
            "View Array:\n",
            "[[ 1  2  3]\n",
            " [10  5  6]]\n"
          ]
        }
      ]
    },
    {
      "cell_type": "code",
      "source": [
        "'''\n",
        "Part 5: Bonus\n",
        "9. Challenge Task:\n",
        "o Write a program that asks the user to input a number (n), and then\n",
        "generates an n x n array of random integers between 1 and 100.\n",
        "o Find the sum of all the elements in the array and print the result.\n",
        "'''\n",
        "\n",
        "#o Write a program that asks the user to input a number (n), and then generates an n x n array of random integers between 1 and 100.\n",
        "import numpy as np\n",
        "\n",
        "array = np.random.randint(1, 101, size=(5, 5))\n",
        "\n",
        "print(array)\n",
        "\n",
        "'''import numpy as np\n",
        "n = int(input(\"Enter the size of the array: \"))\n",
        "array = np.random.randint(1, 101, (n, n))\n",
        "\n",
        "print(array)'''\n",
        "\n",
        "#o Find the sum of all the elements in the array and print the result.\n",
        "import numpy as np\n",
        "array = np.random.randint(1, 101, size=(5, 5))\n",
        "sum = np.sum(array)\n",
        "print(\"Sum of all elements in the array:\", sum)"
      ],
      "metadata": {
        "colab": {
          "base_uri": "https://localhost:8080/"
        },
        "id": "YCbmzLQ98fhc",
        "outputId": "b36498aa-8947-4574-a639-b81ef119d457"
      },
      "execution_count": null,
      "outputs": [
        {
          "output_type": "stream",
          "name": "stdout",
          "text": [
            "[[ 10  41  76  85  80]\n",
            " [ 30 100  44  82  43]\n",
            " [ 17  88  24  67  62]\n",
            " [  2   4  78  43  41]\n",
            " [ 45  33  98  73  14]]\n",
            "Sum of all elements in the array: 1109\n"
          ]
        }
      ]
    }
  ]
}