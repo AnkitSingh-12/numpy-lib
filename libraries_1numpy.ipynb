{
  "nbformat": 4,
  "nbformat_minor": 0,
  "metadata": {
    "colab": {
      "provenance": [],
      "authorship_tag": "ABX9TyOjZlYxM0dvZ9fn/XbLv2TC",
      "include_colab_link": true
    },
    "kernelspec": {
      "name": "python3",
      "display_name": "Python 3"
    },
    "language_info": {
      "name": "python"
    }
  },
  "cells": [
    {
      "cell_type": "markdown",
      "metadata": {
        "id": "view-in-github",
        "colab_type": "text"
      },
      "source": [
        "<a href=\"https://colab.research.google.com/github/AnkitSingh-12/numpy-lib/blob/main/libraries_1numpy.ipynb\" target=\"_parent\"><img src=\"https://colab.research.google.com/assets/colab-badge.svg\" alt=\"Open In Colab\"/></a>"
      ]
    },
    {
      "cell_type": "code",
      "execution_count": null,
      "metadata": {
        "id": "wzBO8JtXtsHq"
      },
      "outputs": [],
      "source": [
        "import numpy as np"
      ]
    },
    {
      "cell_type": "code",
      "source": [
        "np.__version__"
      ],
      "metadata": {
        "colab": {
          "base_uri": "https://localhost:8080/",
          "height": 36
        },
        "id": "Hah0HqjKwZ0W",
        "outputId": "17d4c189-03d2-4acf-8d12-b57ebd2be1b0"
      },
      "execution_count": null,
      "outputs": [
        {
          "output_type": "execute_result",
          "data": {
            "text/plain": [
              "'2.0.2'"
            ],
            "application/vnd.google.colaboratory.intrinsic+json": {
              "type": "string"
            }
          },
          "metadata": {},
          "execution_count": 10
        }
      ]
    },
    {
      "cell_type": "code",
      "source": [
        "l=[1,2,3]\n",
        "a=np.array(l)\n",
        "type(a)"
      ],
      "metadata": {
        "colab": {
          "base_uri": "https://localhost:8080/"
        },
        "id": "JXd02by1yLWe",
        "outputId": "77871490-95d8-4167-f0a3-b63e6388d980"
      },
      "execution_count": null,
      "outputs": [
        {
          "output_type": "execute_result",
          "data": {
            "text/plain": [
              "numpy.ndarray"
            ]
          },
          "metadata": {},
          "execution_count": 11
        }
      ]
    },
    {
      "cell_type": "code",
      "source": [
        "\n",
        "a=np.array([1,2,3])\n",
        "type(a)"
      ],
      "metadata": {
        "colab": {
          "base_uri": "https://localhost:8080/"
        },
        "id": "k-00nZmey3d4",
        "outputId": "4dfa9d3b-23ab-4bc8-fea5-918e0ba58935"
      },
      "execution_count": null,
      "outputs": [
        {
          "output_type": "execute_result",
          "data": {
            "text/plain": [
              "numpy.ndarray"
            ]
          },
          "metadata": {},
          "execution_count": 12
        }
      ]
    },
    {
      "cell_type": "code",
      "source": [
        "a.ndim"
      ],
      "metadata": {
        "colab": {
          "base_uri": "https://localhost:8080/"
        },
        "id": "4kMD_8-yzDyh",
        "outputId": "53f629f6-de9a-4d57-9ac2-fc393aae6ea8"
      },
      "execution_count": null,
      "outputs": [
        {
          "output_type": "execute_result",
          "data": {
            "text/plain": [
              "1"
            ]
          },
          "metadata": {},
          "execution_count": 13
        }
      ]
    },
    {
      "cell_type": "code",
      "source": [
        "a=np.array([[1,2,3],\n",
        "            [4,5,6],\n",
        "            [7,8,9]])\n",
        "type(a)"
      ],
      "metadata": {
        "colab": {
          "base_uri": "https://localhost:8080/"
        },
        "id": "tojgydczzZN4",
        "outputId": "45f3125c-f892-457b-f4ac-f45153dccaec"
      },
      "execution_count": null,
      "outputs": [
        {
          "output_type": "execute_result",
          "data": {
            "text/plain": [
              "numpy.ndarray"
            ]
          },
          "metadata": {},
          "execution_count": 14
        }
      ]
    },
    {
      "cell_type": "code",
      "source": [
        "a.ndim"
      ],
      "metadata": {
        "id": "52bpInRx0GOO",
        "outputId": "96acc679-ea67-45b4-9e04-bb94d14f25bc",
        "colab": {
          "base_uri": "https://localhost:8080/"
        }
      },
      "execution_count": null,
      "outputs": [
        {
          "output_type": "execute_result",
          "data": {
            "text/plain": [
              "2"
            ]
          },
          "metadata": {},
          "execution_count": 15
        }
      ]
    },
    {
      "cell_type": "markdown",
      "source": [
        "**DTYPE**\n"
      ],
      "metadata": {
        "id": "fm4wO_xi21EW"
      }
    },
    {
      "cell_type": "code",
      "source": [
        "#syntax\n",
        "#    array_varName.dtype\n",
        "a=np.array([True])\n",
        "print(a.dtype)\n",
        "a=np.array([True,10])\n",
        "print(a.dtype)\n",
        "a=np.array([True,10,59.7])\n",
        "print(a.dtype)\n",
        "a=np.array([True,10,59.7,(10+0j)])\n",
        "print(a.dtype)\n",
        "a=np.array([True,10,59.7,'hi'])\n",
        "print(a.dtype)\n",
        "a=np.array([True,10,59.7,'hi',{1,2,3}])\n",
        "print(a.dtype)\n",
        "a=np.array([True,10,59.7,'hi',{1:3}])\n",
        "print(a.dtype)\n",
        "a=np.array([True,10,59.7,'hi',[1,2,3]]) #ERROR WE CANT TAKE LIST INSIDE ONE MORE LIST,IF WE CAN TAKE LIST INSIDE ONE MORE LIST ,TUPLE IT WILL CREATE ERROR\n",
        "print(a.dtype)\n",
        "\n",
        "\n",
        "#PRIORITY\n",
        "#bool<int< float<complex<str<object(set,tuple)"
      ],
      "metadata": {
        "colab": {
          "base_uri": "https://localhost:8080/",
          "height": 332
        },
        "id": "PWkpUX8yszbc",
        "outputId": "9b11faf8-7766-4177-9895-b57b1c29e980"
      },
      "execution_count": null,
      "outputs": [
        {
          "output_type": "stream",
          "name": "stdout",
          "text": [
            "bool\n",
            "int64\n",
            "float64\n",
            "complex128\n",
            "<U32\n",
            "object\n",
            "object\n"
          ]
        },
        {
          "output_type": "error",
          "ename": "ValueError",
          "evalue": "setting an array element with a sequence. The requested array has an inhomogeneous shape after 1 dimensions. The detected shape was (5,) + inhomogeneous part.",
          "traceback": [
            "\u001b[0;31m---------------------------------------------------------------------------\u001b[0m",
            "\u001b[0;31mValueError\u001b[0m                                Traceback (most recent call last)",
            "\u001b[0;32m<ipython-input-16-a3ad3bddef06>\u001b[0m in \u001b[0;36m<cell line: 0>\u001b[0;34m()\u001b[0m\n\u001b[1;32m     15\u001b[0m \u001b[0ma\u001b[0m\u001b[0;34m=\u001b[0m\u001b[0mnp\u001b[0m\u001b[0;34m.\u001b[0m\u001b[0marray\u001b[0m\u001b[0;34m(\u001b[0m\u001b[0;34m[\u001b[0m\u001b[0;32mTrue\u001b[0m\u001b[0;34m,\u001b[0m\u001b[0;36m10\u001b[0m\u001b[0;34m,\u001b[0m\u001b[0;36m59.7\u001b[0m\u001b[0;34m,\u001b[0m\u001b[0;34m'hi'\u001b[0m\u001b[0;34m,\u001b[0m\u001b[0;34m{\u001b[0m\u001b[0;36m1\u001b[0m\u001b[0;34m:\u001b[0m\u001b[0;36m3\u001b[0m\u001b[0;34m}\u001b[0m\u001b[0;34m]\u001b[0m\u001b[0;34m)\u001b[0m\u001b[0;34m\u001b[0m\u001b[0;34m\u001b[0m\u001b[0m\n\u001b[1;32m     16\u001b[0m \u001b[0mprint\u001b[0m\u001b[0;34m(\u001b[0m\u001b[0ma\u001b[0m\u001b[0;34m.\u001b[0m\u001b[0mdtype\u001b[0m\u001b[0;34m)\u001b[0m\u001b[0;34m\u001b[0m\u001b[0;34m\u001b[0m\u001b[0m\n\u001b[0;32m---> 17\u001b[0;31m \u001b[0ma\u001b[0m\u001b[0;34m=\u001b[0m\u001b[0mnp\u001b[0m\u001b[0;34m.\u001b[0m\u001b[0marray\u001b[0m\u001b[0;34m(\u001b[0m\u001b[0;34m[\u001b[0m\u001b[0;32mTrue\u001b[0m\u001b[0;34m,\u001b[0m\u001b[0;36m10\u001b[0m\u001b[0;34m,\u001b[0m\u001b[0;36m59.7\u001b[0m\u001b[0;34m,\u001b[0m\u001b[0;34m'hi'\u001b[0m\u001b[0;34m,\u001b[0m\u001b[0;34m[\u001b[0m\u001b[0;36m1\u001b[0m\u001b[0;34m,\u001b[0m\u001b[0;36m2\u001b[0m\u001b[0;34m,\u001b[0m\u001b[0;36m3\u001b[0m\u001b[0;34m]\u001b[0m\u001b[0;34m]\u001b[0m\u001b[0;34m)\u001b[0m \u001b[0;31m#ERROR WE CANT TAKE LIST INSIDE ONE MORE LIST,IF WE CAN TAKE LIST INSIDE ONE MORE LIST ,TUPLE IT WILL CREATE ERROR\u001b[0m\u001b[0;34m\u001b[0m\u001b[0;34m\u001b[0m\u001b[0m\n\u001b[0m\u001b[1;32m     18\u001b[0m \u001b[0mprint\u001b[0m\u001b[0;34m(\u001b[0m\u001b[0ma\u001b[0m\u001b[0;34m.\u001b[0m\u001b[0mdtype\u001b[0m\u001b[0;34m)\u001b[0m\u001b[0;34m\u001b[0m\u001b[0;34m\u001b[0m\u001b[0m\n\u001b[1;32m     19\u001b[0m \u001b[0;34m\u001b[0m\u001b[0m\n",
            "\u001b[0;31mValueError\u001b[0m: setting an array element with a sequence. The requested array has an inhomogeneous shape after 1 dimensions. The detected shape was (5,) + inhomogeneous part."
          ]
        }
      ]
    },
    {
      "cell_type": "markdown",
      "source": [
        "**shape**"
      ],
      "metadata": {
        "id": "_CIEBq2U2VS8"
      }
    },
    {
      "cell_type": "code",
      "source": [
        "'''\n",
        "VARIABLE TO GET NUMBER IOF ROWS AND COLUMNS IN ARR\n",
        "UNIDIMENSIONAL ARRAY---> LENGTH OF THE ARRAY\n",
        "2D ARRAY -->ROWS and COLUMNS\n",
        "3D ARRAY -->ROWS,COLUMNS,DEPTH,SLICES\n",
        "syntax\n",
        "array_varName.shape\n",
        "'''\n",
        "\n",
        "a=np.array([1,2,3])\n",
        "print(a.shape)\n",
        "a=np.array([[1,2,3],\n",
        "            [4,5,6],\n",
        "            [7,8,9]])\n",
        "print(a.shape)\n",
        "a=np.array([[1,2],\n",
        "            [4,5],\n",
        "            [7,9]])\n",
        "print(a.shape)\n",
        "\n",
        "a=np.array([[[1],\n",
        "            [4]],\n",
        "            [[7],\n",
        "             [3]]])\n",
        "print(a.shape)"
      ],
      "metadata": {
        "id": "OGRNRBP_0j2Y"
      },
      "execution_count": null,
      "outputs": []
    },
    {
      "cell_type": "markdown",
      "source": [
        "**RE SHAPE**\n"
      ],
      "metadata": {
        "id": "3IotgKgi7opW"
      }
    },
    {
      "cell_type": "code",
      "source": [
        "'''\n",
        "it is used to change the no of col and rows and rows in existing array\n",
        "syntax\n",
        "  arr_varname.reshape(rows,col)\n",
        "'''\n",
        "\n",
        "a=np.array([[1,2,3,6,],\n",
        "           [1,2,3,6],\n",
        "           [1,2,3,6],\n",
        "           [1,2,3,6]])\n",
        "print(a.shape)\n",
        "a=a.reshape(2,8)\n",
        "print(a.shape)\n",
        "\n",
        "\n",
        "# note =the product of no of rowa and col should be equals to the no of value present in array"
      ],
      "metadata": {
        "id": "8Hi1bBAU7oT1"
      },
      "execution_count": null,
      "outputs": []
    },
    {
      "cell_type": "code",
      "source": [
        "#converting into 2d to 1d\n",
        "\n",
        "##synatax\n",
        "#    arr_var_name.reshape(-1)\n",
        "a=np.array([[1,2,3,6,],\n",
        "           [1,2,3,6],\n",
        "           [1,2,3,6],\n",
        "           [1,2,3,6]])\n",
        "print(a.shape)\n",
        "a=a.reshape(-1)\n",
        "print(a.ndim)"
      ],
      "metadata": {
        "id": "YNGDesaE-Pyj"
      },
      "execution_count": null,
      "outputs": []
    },
    {
      "cell_type": "code",
      "source": [],
      "metadata": {
        "id": "_qM5jc6jAawp"
      },
      "execution_count": null,
      "outputs": []
    },
    {
      "cell_type": "markdown",
      "source": [
        "**ndim**"
      ],
      "metadata": {
        "id": "zvIDLcCUAWfW"
      }
    },
    {
      "cell_type": "code",
      "source": [
        "#synatax\n",
        "# ndmin=dimension of arary\n",
        "\n",
        "a=np.array([1,2,3])\n",
        "print(a.ndmin)\n",
        "a=np.array([1,2,3],ndmin=64)#64 bit is the highest value of the ndmin\n",
        "print(a.ndmin)\n",
        "a"
      ],
      "metadata": {
        "id": "XCR5HAdYAlE8"
      },
      "execution_count": null,
      "outputs": []
    },
    {
      "cell_type": "markdown",
      "source": [
        "**arange**"
      ],
      "metadata": {
        "id": "5sodiDwAC9E6"
      }
    },
    {
      "cell_type": "code",
      "source": [
        "#syntax\n",
        "# a=np.arrange(starting value,ending value+-,step value)\n",
        "\n",
        "a=np.arange(1,10,2)\n",
        "a\n",
        "a=np.arange(10,0,-1)\n",
        "a\n"
      ],
      "metadata": {
        "id": "5B99HFsfDEfm"
      },
      "execution_count": null,
      "outputs": []
    },
    {
      "cell_type": "markdown",
      "source": [
        "LINSPACE"
      ],
      "metadata": {
        "id": "tVnDPNDg7zsl"
      }
    },
    {
      "cell_type": "code",
      "source": [
        "'''SYANTAX\n",
        "   np.linspace(starting val,ending val,no of value)\n",
        "   if we are not providig the n0 value by default it will give value'''\n",
        "\n",
        "a=np.linspace(1,10,5)\n",
        "print(a)"
      ],
      "metadata": {
        "id": "wu3Gp0ZW7zTf"
      },
      "execution_count": null,
      "outputs": []
    },
    {
      "cell_type": "markdown",
      "source": [
        "**randint**"
      ],
      "metadata": {
        "id": "veuDIf4t93yJ"
      }
    },
    {
      "cell_type": "code",
      "source": [
        "'''\n",
        "unidimensional array\n",
        "\n",
        "np.random.randint(starting val,ending val+1,no of value)\n",
        "\n",
        "---> 2d array\n",
        "np.random.randint(starting val,ending val+1,(rows,col))\n",
        "\n",
        "--->3d array\n",
        "np.random.randint(starting val,ending val+1,(slice,rows,col))4\n",
        "\n",
        "\n",
        "note- ending value exclusive\n",
        "'''\n",
        "\n",
        "np.random.randint(1,11,50)\n",
        "np.random.randint(1,11,(2,3))\n",
        "np.random.randint(1,11,(2,3,4))"
      ],
      "metadata": {
        "id": "jOQflJeZ92-i"
      },
      "execution_count": null,
      "outputs": []
    },
    {
      "cell_type": "markdown",
      "source": [
        "**rand**"
      ],
      "metadata": {
        "id": "8qpiNR6fA2NR"
      }
    },
    {
      "cell_type": "code",
      "source": [
        "'''\n",
        "syantax\n",
        "\n",
        "np.random.rand(no of value)\n",
        "'''\n",
        "\n",
        "arr=np.random.rand(5)\n",
        "print(arr)\n",
        "arr=np.random.rand(2,3)\n",
        "print(arr)\n",
        "arr=np.random.rand(2,3,3)\n",
        "print(arr)"
      ],
      "metadata": {
        "id": "b28LCuICA8L6"
      },
      "execution_count": null,
      "outputs": []
    },
    {
      "cell_type": "markdown",
      "source": [
        "**randn()**\n"
      ],
      "metadata": {
        "id": "dkY75-QaC85N"
      }
    },
    {
      "cell_type": "code",
      "source": [
        "'''\n",
        "it is used to generate random no between infinity to infinity\n",
        "it is present in random module and random module present in numpypackage\n",
        "\n",
        "\n",
        "syantax\n",
        "np.random.randn(no of value)\n",
        "'''\n",
        "arr=np.random.randn(5)\n",
        "print(arr)\n",
        "arr=np.random.randn(2,3)\n",
        "print(arr)\n",
        "arr=np.random.randn(2,3,3)\n",
        "print(arr)\n",
        "\n"
      ],
      "metadata": {
        "id": "pTLcNmOtDCou"
      },
      "execution_count": null,
      "outputs": []
    },
    {
      "cell_type": "markdown",
      "source": [
        "**choice**"
      ],
      "metadata": {
        "id": "iZsINZymE_hQ"
      }
    },
    {
      "cell_type": "code",
      "source": [
        "'''\n",
        "\n",
        "synatx\n",
        "np.random.choice([list of value])\n",
        "'''\n",
        "np.random.choice([1,2,'hii',90.8,True])"
      ],
      "metadata": {
        "id": "UXBbI_nZFIt7"
      },
      "execution_count": null,
      "outputs": []
    },
    {
      "cell_type": "markdown",
      "source": [
        "**shuffle**\n"
      ],
      "metadata": {
        "id": "fIyF3XauG3nf"
      }
    },
    {
      "cell_type": "code",
      "source": [
        "'''syntax\n",
        "np.random.shuffl(col/arr_var)'''\n",
        "\n",
        "arr=np.array([1,2,7.8,'hii',False])\n",
        "\n",
        "np.random.shuffle(arr)\n",
        "print(a)"
      ],
      "metadata": {
        "id": "9INuQiiyG2Cw"
      },
      "execution_count": null,
      "outputs": []
    },
    {
      "cell_type": "markdown",
      "source": [
        "**copy**\n"
      ],
      "metadata": {
        "id": "1XWoaUGcIe1_"
      }
    },
    {
      "cell_type": "code",
      "source": [
        "'''\n",
        "syantx\n",
        "\n",
        "new_arr=old_arr.copy()\n",
        "'''\n",
        "arr=np.array([1,2,3,4,5])\n",
        "arr1=arr.copy()\n",
        "arr[1]=7\n",
        "print(arr1)\n",
        "print(arr)"
      ],
      "metadata": {
        "id": "DQ8avMVeIiZW"
      },
      "execution_count": null,
      "outputs": []
    },
    {
      "cell_type": "markdown",
      "source": [
        "**view**"
      ],
      "metadata": {
        "id": "-oDHvnluJSkw"
      }
    },
    {
      "cell_type": "code",
      "source": [
        "'''\n",
        "syantax\n",
        "new_arr=old_arr.view()\n",
        "'''\n",
        "arr=np.array([1,2,3,4,5])\n",
        "arr1=arr.view()\n",
        "arr[1]=7\n",
        "print(arr1)\n",
        "print(arr)\n",
        "\n"
      ],
      "metadata": {
        "id": "EZ9bWaEjJVYX"
      },
      "execution_count": null,
      "outputs": []
    },
    {
      "cell_type": "markdown",
      "source": [
        "**zeros**\n"
      ],
      "metadata": {
        "id": "pwQFm0dUK-FH"
      }
    },
    {
      "cell_type": "code",
      "source": [
        "'''\n",
        "syantax\n",
        "#np.zeros(no values)\n",
        "#np.zeros((rows,col))#2 dimensional array\n",
        "#np.zeros((slice,rows,col))#3 dimensional array\n",
        "'''\n",
        "arr=np.zeros((4,4,10))\n",
        "print(arr)"
      ],
      "metadata": {
        "id": "Yr6XIo6ULBFQ"
      },
      "execution_count": null,
      "outputs": []
    },
    {
      "cell_type": "markdown",
      "source": [
        "**ones**"
      ],
      "metadata": {
        "id": "JPjZJZlUM9b8"
      }
    },
    {
      "cell_type": "code",
      "source": [
        "'''\n",
        "synatx\n",
        "\n",
        "np.ones(values)\n",
        "np.ones((rows,col))\n",
        "np.ones((slices,rows,col))\n",
        "\n",
        "'''\n",
        "arr=np.ones(10)\n",
        "print(arr)\n",
        "arr=np.ones((3,3))\n",
        "print(arr)\n",
        "arr=np.ones((2,3,4))\n",
        "print(arr)"
      ],
      "metadata": {
        "id": "O54Slgd_NCts"
      },
      "execution_count": null,
      "outputs": []
    },
    {
      "cell_type": "markdown",
      "source": [
        "**identity**\n"
      ],
      "metadata": {
        "id": "vQfO7RSCOp--"
      }
    },
    {
      "cell_type": "code",
      "source": [
        "'''synatx\n",
        "np.identity(values of matrix)\n",
        "'''\n",
        "arr=np.identity(4)\n",
        "print(arr)\n"
      ],
      "metadata": {
        "id": "bpt-Ob5xOw3C"
      },
      "execution_count": null,
      "outputs": []
    },
    {
      "cell_type": "markdown",
      "source": [
        "*"
      ],
      "metadata": {
        "id": "47nQpko3VT5S"
      }
    },
    {
      "cell_type": "markdown",
      "source": [
        "**INDEXING**\n"
      ],
      "metadata": {
        "id": "hbIy1vkTVZy6"
      }
    },
    {
      "cell_type": "code",
      "source": [
        "# indexing on  1D array\n",
        "\n",
        "# draw back\n",
        "# we cant fetch multiple elements in a time,\n",
        "#to over this drawback we are going for slicing\n",
        "\n",
        "a=np.array([1,2,5,3,4,'hii',True])\n",
        "print(a[3])\n",
        "print(a[-1])\n",
        "\n",
        "\n",
        "# slicing of 1d array\n",
        "print(a[1:5:1])\n",
        "print(a[1:])\n",
        "print(a[1:4])\n",
        "print(a[:4])"
      ],
      "metadata": {
        "id": "DQYrwKI1VStI"
      },
      "execution_count": null,
      "outputs": []
    },
    {
      "cell_type": "code",
      "source": [
        "# 2 d array\n",
        "a=np.array([[1,2,3],[4,5,6],[7,8,9]])\n",
        "print(a[2][1])\n",
        "print(a[-2][-2])\n",
        "print(a[0][2])\n",
        "print(a[-3][-1])\n",
        "\n",
        "\n",
        "print(a[1: ,1:])\n",
        "\n",
        "print(a[0:2 ,0:2])\n",
        "\n",
        "\n",
        "print(a[-1:-3:-1 ,-1:-3:-1])\n",
        "print(a[-1:-3:-1 ,1:3:1])\n",
        "\n",
        "print(a[0][0:2])\n",
        "print(a[2][2:1])"
      ],
      "metadata": {
        "id": "h9Phht67ch8i"
      },
      "execution_count": null,
      "outputs": []
    },
    {
      "cell_type": "code",
      "source": [
        "#3d array\n",
        "\n",
        "a=np.array([[[1,2,3],[4,5,6],[7,8,9]],[[1,2,3],[4,5,6],[7,8,9]],[[1,2,3],[4,5,6],[7,8,9]]])\n",
        "print(a[1][1][1])\n",
        "print(a[0][1][2])\n",
        "print(a[1][1][2])\n",
        "print(a[2][2][1])\n",
        "print(a)\n",
        "\n",
        "\n",
        "print(a[0:2,0:2,0:2])\n",
        "print(a[[2],1:,1:])\n"
      ],
      "metadata": {
        "id": "2DNuLU0veqHW"
      },
      "execution_count": null,
      "outputs": []
    },
    {
      "cell_type": "markdown",
      "source": [
        "**array operation**"
      ],
      "metadata": {
        "id": "JXY0p2Fhk8DR"
      }
    },
    {
      "cell_type": "code",
      "source": [
        "#we can perform three operation\n",
        "#1=array to array operation\n",
        "#2=array to constant\n",
        "#3=built in function array\n",
        "\n",
        "\n",
        "\n",
        "#1=array to array operation\n",
        "\n",
        "a1=np.array([1,2,3,4])\n",
        "a2=np.array([5,6,7,8])\n",
        "print(a1+a2)\n",
        "print(a1-a2)\n",
        "print(a1*a2)\n",
        "print(a1/a2)\n",
        "print(a1%a2)\n",
        "\n",
        "#2=array to constant\n",
        "a1=np.array([1,2,3,4])\n",
        "a2=np.array([5,6,7,8])\n",
        "print(a1+a2)\n",
        "print(a1-a2)\n",
        "print(a1**a2)\n",
        "print(a1/a2)\n",
        "print(a1//a2)\n",
        "print(a1%a2)\n",
        "\n",
        "\n",
        "#3=built in function array\n",
        "\n",
        "a1=np.array([1,2,3,4])\n",
        "print(np.sqrt(a1))\n",
        "print(np.sin(a1))\n",
        "print(np.cos(a1))\n",
        "print(np.tan(a1))\n",
        "\n",
        "\n",
        "a1=np.array([1,2,3,4])\n",
        "a2=np.array([5,6,7,8])\n",
        "print(np.add(a1,a2))\n",
        "print(np.subtract(a1,a2))\n",
        "print(np.multiply(a1,a2))\n",
        "print(np.divide(a1,a2))\n",
        "\n",
        "a1=np.array([1,2,3,4])\n",
        "a2=np.array([5,6,7,8])\n",
        "print(a1.max())\n",
        "print(a1.min())\n",
        "print(a1.avg())\n"
      ],
      "metadata": {
        "id": "5E6T8zAIlCZy"
      },
      "execution_count": null,
      "outputs": []
    },
    {
      "cell_type": "code",
      "source": [],
      "metadata": {
        "id": "sKr2G1l9lAwo"
      },
      "execution_count": null,
      "outputs": []
    },
    {
      "cell_type": "markdown",
      "source": [],
      "metadata": {
        "id": "piJlm4fqk7hE"
      }
    }
  ]
}